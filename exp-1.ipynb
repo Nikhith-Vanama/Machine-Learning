{
 "cells": [
  {
   "cell_type": "code",
   "execution_count": 4,
   "id": "410eb826-17e8-4665-ac3e-1082b59d403f",
   "metadata": {},
   "outputs": [],
   "source": [
    "import pandas as pd"
   ]
  },
  {
   "cell_type": "code",
   "execution_count": 6,
   "id": "725147bf-ce05-4d21-9dca-2c9929ac5ff8",
   "metadata": {},
   "outputs": [],
   "source": [
    "def find_s_algorithm(data, target_column):\n",
    "    attributes = data.columns[:-1] \n",
    "    hypothesis = ['0'] * (len(attributes))\n",
    "    for index, row in data.iterrows():\n",
    "        if row[target_column] == \"Yes\":  \n",
    "            for i in range(len(attributes)):\n",
    "                if hypothesis[i] == '0':  \n",
    "                    hypothesis[i] = row[i]\n",
    "                elif hypothesis[i] != row[i]:  \n",
    "                    hypothesis[i] = '?'\n",
    "    return hypothesis"
   ]
  },
  {
   "cell_type": "code",
   "execution_count": 8,
   "id": "6713c147-6187-4673-b8ea-b05d87b8aecd",
   "metadata": {},
   "outputs": [
    {
     "data": {
      "text/html": [
       "<div>\n",
       "<style scoped>\n",
       "    .dataframe tbody tr th:only-of-type {\n",
       "        vertical-align: middle;\n",
       "    }\n",
       "\n",
       "    .dataframe tbody tr th {\n",
       "        vertical-align: top;\n",
       "    }\n",
       "\n",
       "    .dataframe thead th {\n",
       "        text-align: right;\n",
       "    }\n",
       "</style>\n",
       "<table border=\"1\" class=\"dataframe\">\n",
       "  <thead>\n",
       "    <tr style=\"text-align: right;\">\n",
       "      <th></th>\n",
       "      <th>Outlook</th>\n",
       "      <th>Temperature</th>\n",
       "      <th>Humidity</th>\n",
       "      <th>Wind</th>\n",
       "      <th>Target</th>\n",
       "    </tr>\n",
       "  </thead>\n",
       "  <tbody>\n",
       "    <tr>\n",
       "      <th>0</th>\n",
       "      <td>Sunny</td>\n",
       "      <td>Warm</td>\n",
       "      <td>Normal</td>\n",
       "      <td>Strong</td>\n",
       "      <td>Yes</td>\n",
       "    </tr>\n",
       "    <tr>\n",
       "      <th>1</th>\n",
       "      <td>Sunny</td>\n",
       "      <td>Warm</td>\n",
       "      <td>High</td>\n",
       "      <td>Strong</td>\n",
       "      <td>Yes</td>\n",
       "    </tr>\n",
       "    <tr>\n",
       "      <th>2</th>\n",
       "      <td>Rainy</td>\n",
       "      <td>Cold</td>\n",
       "      <td>High</td>\n",
       "      <td>Strong</td>\n",
       "      <td>No</td>\n",
       "    </tr>\n",
       "    <tr>\n",
       "      <th>3</th>\n",
       "      <td>Sunny</td>\n",
       "      <td>Warm</td>\n",
       "      <td>High</td>\n",
       "      <td>Weak</td>\n",
       "      <td>Yes</td>\n",
       "    </tr>\n",
       "  </tbody>\n",
       "</table>\n",
       "</div>"
      ],
      "text/plain": [
       "  Outlook Temperature Humidity    Wind Target\n",
       "0   Sunny        Warm   Normal  Strong    Yes\n",
       "1   Sunny        Warm     High  Strong    Yes\n",
       "2   Rainy        Cold     High  Strong     No\n",
       "3   Sunny        Warm     High    Weak    Yes"
      ]
     },
     "execution_count": 8,
     "metadata": {},
     "output_type": "execute_result"
    }
   ],
   "source": [
    "dataset = pd.read_csv(\"your.csv\")\n",
    "dataset"
   ]
  },
  {
   "cell_type": "code",
   "execution_count": 10,
   "id": "c7753fbc-a419-4d0b-a49e-4321d7db4a29",
   "metadata": {},
   "outputs": [
    {
     "name": "stderr",
     "output_type": "stream",
     "text": [
      "C:\\Users\\nikhi\\AppData\\Local\\Temp\\ipykernel_12904\\1485485948.py:8: FutureWarning: Series.__getitem__ treating keys as positions is deprecated. In a future version, integer keys will always be treated as labels (consistent with DataFrame behavior). To access a value by position, use `ser.iloc[pos]`\n",
      "  hypothesis[i] = row[i]\n",
      "C:\\Users\\nikhi\\AppData\\Local\\Temp\\ipykernel_12904\\1485485948.py:9: FutureWarning: Series.__getitem__ treating keys as positions is deprecated. In a future version, integer keys will always be treated as labels (consistent with DataFrame behavior). To access a value by position, use `ser.iloc[pos]`\n",
      "  elif hypothesis[i] != row[i]:\n"
     ]
    }
   ],
   "source": [
    "target_column = \"Target\" \n",
    "final_hypothesis = find_s_algorithm(dataset, target_column)"
   ]
  },
  {
   "cell_type": "code",
   "execution_count": 11,
   "id": "c57311a3-bbf0-4e06-806c-6a31301691a1",
   "metadata": {},
   "outputs": [
    {
     "name": "stdout",
     "output_type": "stream",
     "text": [
      "The most specific hypothesis is: ['Sunny', 'Warm', '?', '?']\n"
     ]
    }
   ],
   "source": [
    "print(\"The most specific hypothesis is:\", final_hypothesis)"
   ]
  },
  {
   "cell_type": "code",
   "execution_count": null,
   "id": "7b89baa7-8189-4504-b9b1-a34b45e5faf6",
   "metadata": {},
   "outputs": [],
   "source": []
  }
 ],
 "metadata": {
  "kernelspec": {
   "display_name": "Python 3 (ipykernel)",
   "language": "python",
   "name": "python3"
  },
  "language_info": {
   "codemirror_mode": {
    "name": "ipython",
    "version": 3
   },
   "file_extension": ".py",
   "mimetype": "text/x-python",
   "name": "python",
   "nbconvert_exporter": "python",
   "pygments_lexer": "ipython3",
   "version": "3.12.7"
  }
 },
 "nbformat": 4,
 "nbformat_minor": 5
}
