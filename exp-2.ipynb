{
 "cells": [
  {
   "cell_type": "code",
   "execution_count": 2,
   "id": "0d415498-4154-46f0-b59b-9fb85da65dca",
   "metadata": {},
   "outputs": [],
   "source": [
    "import pandas as pd"
   ]
  },
  {
   "cell_type": "code",
   "execution_count": 6,
   "id": "717c4910-b5e0-498e-99ca-72b001c57c95",
   "metadata": {},
   "outputs": [],
   "source": [
    "def candidate_elimination(data, target_column):\n",
    "    attributes = list(data.columns[:-1])\n",
    "    S = ['0'] * len(attributes) \n",
    "    G = [['?'] * len(attributes)] \n",
    "    for index, row in data.iterrows():\n",
    "        if row[target_column] == \"Yes\":\n",
    "            for i in range(len(attributes)):\n",
    "                if S[i] == '0':\n",
    "                    S[i] = row[i]\n",
    "                elif S[i] != row[i]:\n",
    "                    S[i] = '?'\n",
    "            G = [g for g in G if all(g[i] == '?' or g[i] == S[i] or S[i] == '?' for i in range(len(attributes)))]\n",
    "        else: \n",
    "            G_new = []\n",
    "            for g in G:\n",
    "                for i in range(len(attributes)):\n",
    "                    if g[i] == '?':\n",
    "                        for val in data.iloc[:, i].unique():\n",
    "                            if val != row[i]:\n",
    "                                new_g = g[:]\n",
    "                                new_g[i] = val\n",
    "                                if all(new_g[j] == '?' or new_g[j] == S[j] or S[j] == '?' for j in range(len(attributes))):\n",
    "                                    G_new.append(new_g)\n",
    "                    else:\n",
    "                        if g[i] == row[i]:\n",
    "                            G_new.append(g)\n",
    "            G = G_new\n",
    "    return S, G"
   ]
  },
  {
   "cell_type": "code",
   "execution_count": 8,
   "id": "136288d0-3c84-4ef0-a084-490fcf7ee06d",
   "metadata": {},
   "outputs": [],
   "source": [
    "dataset = pd.read_csv(\"your.csv\")"
   ]
  },
  {
   "cell_type": "code",
   "execution_count": 10,
   "id": "494a82ae-3315-4264-ba05-b7338cec3f88",
   "metadata": {},
   "outputs": [],
   "source": [
    "target_column = \"Target\""
   ]
  },
  {
   "cell_type": "code",
   "execution_count": 12,
   "id": "bb0632da-5123-45f6-8fa1-2e350e449b63",
   "metadata": {},
   "outputs": [
    {
     "name": "stderr",
     "output_type": "stream",
     "text": [
      "C:\\Users\\nikhi\\AppData\\Local\\Temp\\ipykernel_3872\\3943342920.py:9: FutureWarning: Series.__getitem__ treating keys as positions is deprecated. In a future version, integer keys will always be treated as labels (consistent with DataFrame behavior). To access a value by position, use `ser.iloc[pos]`\n",
      "  S[i] = row[i]\n",
      "C:\\Users\\nikhi\\AppData\\Local\\Temp\\ipykernel_3872\\3943342920.py:10: FutureWarning: Series.__getitem__ treating keys as positions is deprecated. In a future version, integer keys will always be treated as labels (consistent with DataFrame behavior). To access a value by position, use `ser.iloc[pos]`\n",
      "  elif S[i] != row[i]:\n",
      "C:\\Users\\nikhi\\AppData\\Local\\Temp\\ipykernel_3872\\3943342920.py:19: FutureWarning: Series.__getitem__ treating keys as positions is deprecated. In a future version, integer keys will always be treated as labels (consistent with DataFrame behavior). To access a value by position, use `ser.iloc[pos]`\n",
      "  if val != row[i]:\n"
     ]
    }
   ],
   "source": [
    "S, G = candidate_elimination(dataset, target_column)"
   ]
  },
  {
   "cell_type": "code",
   "execution_count": 14,
   "id": "827bb212-b95e-4fa4-8ed4-0381841b6321",
   "metadata": {},
   "outputs": [
    {
     "name": "stdout",
     "output_type": "stream",
     "text": [
      "Final Specific Boundary (S): ['Sunny', 'Warm', '?', '?']\n",
      "Final General Boundary (G): [['Sunny', '?', '?', '?'], ['?', 'Warm', '?', '?'], ['?', '?', 'Normal', '?']]\n"
     ]
    }
   ],
   "source": [
    "print(\"Final Specific Boundary (S):\", S)\n",
    "print(\"Final General Boundary (G):\", G)"
   ]
  },
  {
   "cell_type": "code",
   "execution_count": null,
   "id": "11a8bf5d-47d9-45d9-9010-62cf31a6b15d",
   "metadata": {},
   "outputs": [],
   "source": []
  }
 ],
 "metadata": {
  "kernelspec": {
   "display_name": "Python 3 (ipykernel)",
   "language": "python",
   "name": "python3"
  },
  "language_info": {
   "codemirror_mode": {
    "name": "ipython",
    "version": 3
   },
   "file_extension": ".py",
   "mimetype": "text/x-python",
   "name": "python",
   "nbconvert_exporter": "python",
   "pygments_lexer": "ipython3",
   "version": "3.12.7"
  }
 },
 "nbformat": 4,
 "nbformat_minor": 5
}
